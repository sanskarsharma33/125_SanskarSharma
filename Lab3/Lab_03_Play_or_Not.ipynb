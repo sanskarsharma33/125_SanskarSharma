{
  "nbformat": 4,
  "nbformat_minor": 0,
  "metadata": {
    "colab": {
      "name": "Lab_03_Play_or_Not.ipynb",
      "provenance": [],
      "collapsed_sections": [],
      "authorship_tag": "ABX9TyMJBO2EUxA57frON2CRQTBL",
      "include_colab_link": true
    },
    "kernelspec": {
      "name": "python3",
      "display_name": "Python 3"
    },
    "language_info": {
      "name": "python"
    }
  },
  "cells": [
    {
      "cell_type": "markdown",
      "metadata": {
        "id": "view-in-github",
        "colab_type": "text"
      },
      "source": [
        "<a href=\"https://colab.research.google.com/github/sanskarsharma33/125_SanskarSharma/blob/main/Lab3/Lab_03_Play_or_Not.ipynb\" target=\"_parent\"><img src=\"https://colab.research.google.com/assets/colab-badge.svg\" alt=\"Open In Colab\"/></a>"
      ]
    },
    {
      "cell_type": "code",
      "metadata": {
        "colab": {
          "base_uri": "https://localhost:8080/"
        },
        "id": "7F0OipDfRH_q",
        "outputId": "6a4f1601-4d07-44e4-f32f-da5e6cc16030"
      },
      "source": [
        "from google.colab import drive\n",
        "drive.mount(\"/content/drive\")"
      ],
      "execution_count": 1,
      "outputs": [
        {
          "output_type": "stream",
          "name": "stdout",
          "text": [
            "Mounted at /content/drive\n"
          ]
        }
      ]
    },
    {
      "cell_type": "code",
      "metadata": {
        "id": "m_hOJ2z_Rfbi"
      },
      "source": [
        "import numpy as np\n",
        "import pandas as pd\n",
        "import matplotlib.pyplot as plt\n",
        "from sklearn import datasets, preprocessing\n",
        "from sklearn.naive_bayes import GaussianNB, MultinomialNB"
      ],
      "execution_count": 2,
      "outputs": []
    },
    {
      "cell_type": "markdown",
      "metadata": {
        "id": "1XSGsPNiRmEt"
      },
      "source": [
        "# **Roll no. 125 - Task1 performed on Dataset3**"
      ]
    },
    {
      "cell_type": "code",
      "metadata": {
        "colab": {
          "base_uri": "https://localhost:8080/"
        },
        "id": "kIANtniERiyw",
        "outputId": "e3be5de6-74d1-4178-b7f7-9fb6a7092b55"
      },
      "source": [
        "# reading data into main_data\n",
        "\n",
        "main_data = pd.read_csv(\"/content/drive/MyDrive/Sem7/Lab3/Dataset3.csv\")\n",
        "encoded_data = main_data\n",
        "\n",
        "print(\"\\n\\n Main Data :-\\n\", main_data)\n",
        "target = main_data['Class']\n",
        "main_data.drop('Class',axis='columns', inplace=True)\n",
        "\n",
        "for data in main_data:\n",
        "  dummies = pd.get_dummies(main_data[data])\n",
        "  encoded_data = pd.concat([encoded_data,dummies],axis='columns')\n",
        "  encoded_data = encoded_data.drop([data],axis='columns')\n",
        "\n",
        "print(f\"\\n\\nAfter the tranformation\")\n",
        "print(encoded_data)"
      ],
      "execution_count": 38,
      "outputs": [
        {
          "output_type": "stream",
          "name": "stdout",
          "text": [
            "\n",
            "\n",
            " Main Data :-\n",
            "    Outlook Temp Wind  Humidity  Class\n",
            "0        R    H    F         1      0\n",
            "1        R    H    T         2      0\n",
            "2        O    H    F         1      1\n",
            "3        R    M    F         1      1\n",
            "4        S    C    F         1      1\n",
            "5        O    C    T         0      0\n",
            "6        O    C    T         1      1\n",
            "7        R    M    F         1      0\n",
            "8        O    C    F         0      1\n",
            "9        S    M    F         2      1\n",
            "10       R    C    T         2      0\n",
            "11       O    M    T         0      1\n",
            "12       O    H    F         1      1\n",
            "13       S    M    T         1      0\n",
            "\n",
            "\n",
            "After the tranformation\n",
            "    O  R  S  C  H  M  F  T  0  1  2\n",
            "0   0  1  0  0  1  0  1  0  0  1  0\n",
            "1   0  1  0  0  1  0  0  1  0  0  1\n",
            "2   1  0  0  0  1  0  1  0  0  1  0\n",
            "3   0  1  0  0  0  1  1  0  0  1  0\n",
            "4   0  0  1  1  0  0  1  0  0  1  0\n",
            "5   1  0  0  1  0  0  0  1  1  0  0\n",
            "6   1  0  0  1  0  0  0  1  0  1  0\n",
            "7   0  1  0  0  0  1  1  0  0  1  0\n",
            "8   1  0  0  1  0  0  1  0  1  0  0\n",
            "9   0  0  1  0  0  1  1  0  0  0  1\n",
            "10  0  1  0  1  0  0  0  1  0  0  1\n",
            "11  1  0  0  0  0  1  0  1  1  0  0\n",
            "12  1  0  0  0  1  0  1  0  0  1  0\n",
            "13  0  0  1  0  0  1  0  1  0  1  0\n"
          ]
        }
      ]
    },
    {
      "cell_type": "code",
      "metadata": {
        "colab": {
          "base_uri": "https://localhost:8080/"
        },
        "id": "uMWjnglMas9X",
        "outputId": "72323ed4-4964-4845-8a96-f787969101e5"
      },
      "source": [
        "# train test division 85% - 15% because my Roll No is 125\n",
        "from sklearn.model_selection import train_test_split\n",
        "\n",
        "X_train, X_test, Y_train, Y_test = train_test_split(encoded_data, target, test_size = 0.15, random_state = 125)\n",
        "\n",
        "# create model\n",
        "model = MultinomialNB()\n",
        "model.fit(X_train, Y_train)\n",
        "\n",
        "# Predict Y from X_text\n",
        "Y_predicted = model.predict(X_test)\n",
        "\n",
        "print(Y_predicted)"
      ],
      "execution_count": 39,
      "outputs": [
        {
          "output_type": "stream",
          "name": "stdout",
          "text": [
            "[1 1 0]\n"
          ]
        }
      ]
    },
    {
      "cell_type": "code",
      "metadata": {
        "colab": {
          "base_uri": "https://localhost:8080/"
        },
        "id": "FJ07ZNaubTsH",
        "outputId": "eb797431-2160-4835-c4b0-220c49e70ca4"
      },
      "source": [
        "from sklearn import metrics\n",
        "\n",
        "print(f\"Accuracy is :- {metrics.accuracy_score(Y_test, Y_predicted)}\")"
      ],
      "execution_count": 40,
      "outputs": [
        {
          "output_type": "stream",
          "name": "stdout",
          "text": [
            "Accuracy is :- 1.0\n"
          ]
        }
      ]
    },
    {
      "cell_type": "code",
      "metadata": {
        "colab": {
          "base_uri": "https://localhost:8080/"
        },
        "id": "MqrV1FigbVmk",
        "outputId": "2e84fa08-2739-410e-d177-1b443db7eee9"
      },
      "source": [
        "# print precision and recall\n",
        "from sklearn.metrics import precision_score\n",
        "from sklearn.metrics import recall_score\n",
        "\n",
        "\n",
        "precision = precision_score(Y_test, Y_predicted)\n",
        "recall = recall_score(Y_test, Y_predicted)\n",
        "\n",
        "\n",
        "print(f\"precision :- {precision}\")\n",
        "print(f\"recall :- {recall}\")"
      ],
      "execution_count": 41,
      "outputs": [
        {
          "output_type": "stream",
          "name": "stdout",
          "text": [
            "precision :- 1.0\n",
            "recall :- 1.0\n"
          ]
        }
      ]
    },
    {
      "cell_type": "code",
      "metadata": {
        "colab": {
          "base_uri": "https://localhost:8080/"
        },
        "id": "IRPZGsl0baFA",
        "outputId": "6df5d0fd-65a4-4f39-c354-78e2dde03c9f"
      },
      "source": [
        "# Temp = \"Hot\" and Weather = \"overcast\" and Wind = \"F\" and Humidity=\"2\"\n",
        "\n",
        "output = model.predict([[1, 0, 0, 0, 1, 0, 1, 0, 0, 0, 1]])\n",
        "print(f\"final prediction :- {output}\")"
      ],
      "execution_count": 46,
      "outputs": [
        {
          "output_type": "stream",
          "name": "stdout",
          "text": [
            "final prediction :- [1]\n"
          ]
        }
      ]
    }
  ]
}