{
  "nbformat": 4,
  "nbformat_minor": 0,
  "metadata": {
    "colab": {
      "name": "Lab_01_NLTK_Matplotlib.ipynb",
      "provenance": [],
      "collapsed_sections": [],
      "include_colab_link": true
    },
    "kernelspec": {
      "name": "python3",
      "display_name": "Python 3"
    },
    "language_info": {
      "name": "python"
    }
  },
  "cells": [
    {
      "cell_type": "markdown",
      "metadata": {
        "id": "view-in-github",
        "colab_type": "text"
      },
      "source": [
        "<a href=\"https://colab.research.google.com/github/sanskarsharma33/125_SanskarSharma/blob/main/Lab_01_NLTK_Matplotlib.ipynb\" target=\"_parent\"><img src=\"https://colab.research.google.com/assets/colab-badge.svg\" alt=\"Open In Colab\"/></a>"
      ]
    },
    {
      "cell_type": "code",
      "metadata": {
        "colab": {
          "base_uri": "https://localhost:8080/"
        },
        "id": "1LgotGxulzkh",
        "outputId": "d54e9814-3e56-46b8-8ae7-11ae99346fc8"
      },
      "source": [
        "from google.colab import drive\n",
        "drive.mount(\"/content/drive\")"
      ],
      "execution_count": 1,
      "outputs": [
        {
          "output_type": "stream",
          "name": "stdout",
          "text": [
            "Mounted at /content/drive\n"
          ]
        }
      ]
    },
    {
      "cell_type": "code",
      "metadata": {
        "id": "o0PpL5rNmRWm"
      },
      "source": [
        "# importing libraries\n",
        "import nltk\n",
        "import matplotlib.pyplot as plt\n",
        "import pandas as pd"
      ],
      "execution_count": 2,
      "outputs": []
    },
    {
      "cell_type": "code",
      "metadata": {
        "colab": {
          "base_uri": "https://localhost:8080/"
        },
        "id": "1UJQcWdbuqBP",
        "outputId": "9977413d-12f8-43cf-864a-5c555924ce6a"
      },
      "source": [
        "# Raw Text Analysis\n",
        "random_text = \"\"\"Discussing climate, sustainability, and preserving the natural world with President @EmmanuelMacron today in Paris. #BezosEarthFund #ClimatePledge\"\"\"\n",
        "\n",
        "import re\n",
        "import string\n",
        "from nltk.corpus import stopwords\n",
        "from nltk.stem import PorterStemmer\n",
        "from nltk.tokenize import TweetTokenizer\n",
        "\n",
        "remove_link_text = re.sub(r'https?:\\/\\/.*[\\r\\n]*', '', random_text)\n",
        "remove_link_text = re.sub(r'#', '', remove_link_text)\n",
        "print(remove_link_text)"
      ],
      "execution_count": 3,
      "outputs": [
        {
          "output_type": "stream",
          "name": "stdout",
          "text": [
            "Discussing climate, sustainability, and preserving the natural world with President @EmmanuelMacron today in Paris. BezosEarthFund ClimatePledge\n"
          ]
        }
      ]
    },
    {
      "cell_type": "code",
      "metadata": {
        "colab": {
          "base_uri": "https://localhost:8080/"
        },
        "id": "xyl_0s-03TFh",
        "outputId": "8b015f3d-622a-49a3-db4f-e40fe6cf38db"
      },
      "source": [
        "print('\\033[92m' + random_text)\n",
        "print('\\033[92m' + remove_link_text)"
      ],
      "execution_count": 4,
      "outputs": [
        {
          "output_type": "stream",
          "name": "stdout",
          "text": [
            "\u001b[92mDiscussing climate, sustainability, and preserving the natural world with President @EmmanuelMacron today in Paris. #BezosEarthFund #ClimatePledge\n",
            "\u001b[92mDiscussing climate, sustainability, and preserving the natural world with President @EmmanuelMacron today in Paris. BezosEarthFund ClimatePledge\n"
          ]
        }
      ]
    },
    {
      "cell_type": "code",
      "metadata": {
        "colab": {
          "base_uri": "https://localhost:8080/"
        },
        "id": "3hKhYMiXpGFr",
        "outputId": "f2d9d7c3-4e2f-4dfa-840b-90ebb4490111"
      },
      "source": [
        "from nltk.tokenize import sent_tokenize\n",
        "text=\"\"\"Hello Mr. steve, how you doing? whats up? The weather is great, and city is awesome. how you doing? The sky is pinkish-blue. You shouldn't eat cardboard, how you doing?\"\"\"\n",
        "# download punkt\n",
        "nltk.download(\"punkt\")\n",
        "tokenized_text=sent_tokenize(text)\n",
        "print(tokenized_text)"
      ],
      "execution_count": 5,
      "outputs": [
        {
          "output_type": "stream",
          "name": "stdout",
          "text": [
            "[nltk_data] Downloading package punkt to /root/nltk_data...\n",
            "[nltk_data]   Unzipping tokenizers/punkt.zip.\n",
            "['Hello Mr. steve, how you doing?', 'whats up?', 'The weather is great, and city is awesome.', 'how you doing?', 'The sky is pinkish-blue.', \"You shouldn't eat cardboard, how you doing?\"]\n"
          ]
        }
      ]
    },
    {
      "cell_type": "code",
      "metadata": {
        "colab": {
          "base_uri": "https://localhost:8080/"
        },
        "id": "KOGvOYTdpVd5",
        "outputId": "7779cd58-bc70-4184-b01d-d6ba44cbcdeb"
      },
      "source": [
        "# breaks paregraph into words\n",
        "from nltk.tokenize import word_tokenize\n",
        "tokenized_word=word_tokenize(text)\n",
        "print(tokenized_word)"
      ],
      "execution_count": 6,
      "outputs": [
        {
          "output_type": "stream",
          "name": "stdout",
          "text": [
            "['Hello', 'Mr.', 'steve', ',', 'how', 'you', 'doing', '?', 'whats', 'up', '?', 'The', 'weather', 'is', 'great', ',', 'and', 'city', 'is', 'awesome', '.', 'how', 'you', 'doing', '?', 'The', 'sky', 'is', 'pinkish-blue', '.', 'You', 'should', \"n't\", 'eat', 'cardboard', ',', 'how', 'you', 'doing', '?']\n"
          ]
        }
      ]
    },
    {
      "cell_type": "code",
      "metadata": {
        "colab": {
          "base_uri": "https://localhost:8080/",
          "height": 330
        },
        "id": "Jb5ACXqwpotm",
        "outputId": "cb0852a6-ea24-41b1-d36e-ab614d316ce5"
      },
      "source": [
        "# frequency distribution\n",
        "from nltk.probability import FreqDist\n",
        "fdist = FreqDist(tokenized_word)\n",
        "fdist.most_common(4)\n",
        "# Frequency Distribution Plot\n",
        "import matplotlib.pyplot as plt\n",
        "fdist.plot(30, cumulative = False, color = \"red\")\n",
        "plt.show()"
      ],
      "execution_count": 8,
      "outputs": [
        {
          "output_type": "display_data",
          "data": {
            "image/png": "[encoded data removed]",
            "text/plain": [
              "<Figure size 432x288 with 1 Axes>"
            ]
          },
          "metadata": {
            "needs_background": "light"
          }
        }
      ]
    },
    {
      "cell_type": "code",
      "metadata": {
        "colab": {
          "base_uri": "https://localhost:8080/"
        },
        "id": "UlxorA4tqzhD",
        "outputId": "6bf54403-47f9-448f-e6b4-69e9f87ed322"
      },
      "source": [
        "# stop words\n",
        "from nltk.corpus import stopwords\n",
        "# download stopwords\n",
        "nltk.download(\"stopwords\")\n",
        "stop_words = set(stopwords.words(\"english\"))\n",
        "print(stop_words)"
      ],
      "execution_count": 9,
      "outputs": [
        {
          "output_type": "stream",
          "name": "stdout",
          "text": [
            "[nltk_data] Downloading package stopwords to /root/nltk_data...\n",
            "[nltk_data]   Unzipping corpora/stopwords.zip.\n",
            "{\"you'd\", 'those', 'mustn', 'yourselves', 'him', 'she', 'm', 'for', \"couldn't\", \"aren't\", 'so', 'its', 'ourselves', 'my', 'a', 'these', 'hasn', \"wouldn't\", 'has', 'whom', 'myself', 'you', 'doing', 'an', 'other', 's', 'yourself', 'again', 'wouldn', 'didn', 'with', 'it', \"shan't\", 'not', 'have', 'on', 'at', 'aren', 'or', 't', 'shan', \"won't\", 'then', 'each', 'than', 'through', 'own', 'their', 'the', 'doesn', \"you're\", 'we', 'by', 'herself', 'itself', 'am', 'they', 'what', \"don't\", 'ain', 'until', 'hadn', 'yours', 'in', 'should', 'too', \"needn't\", 'was', 'don', 'did', \"it's\", 'being', \"that'll\", \"you'll\", 'of', 'against', 'off', 'such', \"haven't\", 'few', 'before', 'hers', 'during', 'under', 'his', 'both', 'below', 'and', 'now', 'can', 'does', 'he', 'd', 'ma', 'down', 'them', 'couldn', 'up', 'how', \"shouldn't\", 'just', 'from', \"you've\", 'theirs', 'wasn', 'while', 'above', 'if', 'which', 'all', 'once', 'shouldn', 'will', 'this', 'further', 'her', \"mightn't\", 'because', 'me', 've', 'ours', 'needn', 'most', 'some', \"she's\", 'had', 'about', 'there', \"hadn't\", 'out', 'very', 'who', 'is', 'are', \"should've\", \"hasn't\", \"mustn't\", 'were', 'himself', 'mightn', 'do', 'same', 'but', 'as', 'to', \"weren't\", 'no', 'isn', 'your', 'here', 'more', 'o', 're', 'over', 'y', 'into', 'where', 'that', 'why', 'themselves', 'after', 'been', \"wasn't\", 'having', 'weren', 'between', 'll', 'any', \"isn't\", 'haven', 'won', 'i', 'be', 'our', 'nor', 'when', \"doesn't\", \"didn't\", 'only'}\n"
          ]
        }
      ]
    },
    {
      "cell_type": "code",
      "metadata": {
        "colab": {
          "base_uri": "https://localhost:8080/"
        },
        "id": "giaafJN6rxlb",
        "outputId": "204a178b-0e68-4c4a-9fd3-374d736cd980"
      },
      "source": [
        "filtered_sent=[]\n",
        "for w in tokenized_word:\n",
        "    if w not in stop_words:\n",
        "        filtered_sent.append(w)\n",
        "print(\"Tokenized Sentence:\",tokenized_word)\n",
        "print(\"Filterd Sentence:\",filtered_sent)"
      ],
      "execution_count": 10,
      "outputs": [
        {
          "output_type": "stream",
          "name": "stdout",
          "text": [
            "Tokenized Sentence: ['Hello', 'Mr.', 'steve', ',', 'how', 'you', 'doing', '?', 'whats', 'up', '?', 'The', 'weather', 'is', 'great', ',', 'and', 'city', 'is', 'awesome', '.', 'how', 'you', 'doing', '?', 'The', 'sky', 'is', 'pinkish-blue', '.', 'You', 'should', \"n't\", 'eat', 'cardboard', ',', 'how', 'you', 'doing', '?']\n",
            "Filterd Sentence: ['Hello', 'Mr.', 'steve', ',', '?', 'whats', '?', 'The', 'weather', 'great', ',', 'city', 'awesome', '.', '?', 'The', 'sky', 'pinkish-blue', '.', 'You', \"n't\", 'eat', 'cardboard', ',', '?']\n"
          ]
        }
      ]
    },
    {
      "cell_type": "code",
      "metadata": {
        "colab": {
          "base_uri": "https://localhost:8080/"
        },
        "id": "aMlWpuDzsBMh",
        "outputId": "81fe5ff5-a84f-4a14-9bf3-25437927d46f"
      },
      "source": [
        "# stemming\n",
        "from nltk.stem import PorterStemmer\n",
        "from nltk.tokenize import sent_tokenize, word_tokenize\n",
        "\n",
        "ps = PorterStemmer()\n",
        "\n",
        "stemmed_words=[]\n",
        "for w in filtered_sent:\n",
        "    stemmed_words.append(ps.stem(w))\n",
        "\n",
        "print(\"Filtered Sentence:\",filtered_sent)\n",
        "print(\"Stemmed Sentence:\",stemmed_words)"
      ],
      "execution_count": 11,
      "outputs": [
        {
          "output_type": "stream",
          "name": "stdout",
          "text": [
            "Filtered Sentence: ['Hello', 'Mr.', 'steve', ',', '?', 'whats', '?', 'The', 'weather', 'great', ',', 'city', 'awesome', '.', '?', 'The', 'sky', 'pinkish-blue', '.', 'You', \"n't\", 'eat', 'cardboard', ',', '?']\n",
            "Stemmed Sentence: ['hello', 'mr.', 'steve', ',', '?', 'what', '?', 'the', 'weather', 'great', ',', 'citi', 'awesom', '.', '?', 'the', 'sky', 'pinkish-blu', '.', 'you', \"n't\", 'eat', 'cardboard', ',', '?']\n"
          ]
        }
      ]
    },
    {
      "cell_type": "code",
      "metadata": {
        "colab": {
          "base_uri": "https://localhost:8080/"
        },
        "id": "dZSb7K_WsqFU",
        "outputId": "eb3bc87e-83be-44a3-af2b-cee7e6c27af6"
      },
      "source": [
        "#Lexicon Normalization\n",
        "#performing stemming and Lemmatization\n",
        "\n",
        "from nltk.stem.wordnet import WordNetLemmatizer\n",
        "nltk.download('wordnet')\n",
        "lem = WordNetLemmatizer()\n",
        "\n",
        "from nltk.stem.porter import PorterStemmer\n",
        "stem = PorterStemmer()\n",
        "\n",
        "word = \"flying\"\n",
        "print(\"Lemmatized Word:\",lem.lemmatize(word,\"v\"))\n",
        "print(\"Stemmed Word:\",stem.stem(word))"
      ],
      "execution_count": 12,
      "outputs": [
        {
          "output_type": "stream",
          "name": "stdout",
          "text": [
            "[nltk_data] Downloading package wordnet to /root/nltk_data...\n",
            "[nltk_data]   Unzipping corpora/wordnet.zip.\n",
            "Lemmatized Word: fly\n",
            "Stemmed Word: fli\n"
          ]
        }
      ]
    },
    {
      "cell_type": "code",
      "metadata": {
        "id": "fix5Qlw8suEL"
      },
      "source": [
        ""
      ],
      "execution_count": null,
      "outputs": []
    }
  ]
}